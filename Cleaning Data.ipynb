{
 "cells": [
  {
   "cell_type": "code",
   "execution_count": 1,
   "metadata": {},
   "outputs": [],
   "source": [
    "import pandas as pd\n",
    "import numpy as np\n",
    "import os\n",
    "import re\n",
    "import time"
   ]
  },
  {
   "cell_type": "code",
   "execution_count": 2,
   "metadata": {},
   "outputs": [],
   "source": [
    "#Importing our train data for cleaning\n",
    "df=pd.read_excel('Data_Train.xlsx')"
   ]
  },
  {
   "cell_type": "code",
   "execution_count": 3,
   "metadata": {},
   "outputs": [],
   "source": [
    "df_new=df.copy()"
   ]
  },
  {
   "cell_type": "code",
   "execution_count": 4,
   "metadata": {},
   "outputs": [],
   "source": [
    "# Function to clean the names \n",
    "\n",
    "def Clean_names(name): \n",
    "    # Search for 4 or more consecutive digits in the name\n",
    "    if re.search('(\\d\\d\\d\\d \\d\\d\\d\\d)',name): \n",
    "        # Extract the position of beginning of pattern \n",
    "        pos = re.search('(\\d\\d\\d\\d \\d\\d\\d\\d)',name).start() \n",
    "        # return the cleaned name \n",
    "        return name[:pos] \n",
    "    \n",
    "    if re.search('(\\d\\d\\d\\d)',name): \n",
    "        # Extract the position of beginning of pattern \n",
    "        pos = re.search('(\\d\\d\\d\\d)',name).start() \n",
    "        # return the cleaned name \n",
    "        return name[:pos]\n",
    "\n",
    "#     if re.search('(\\d\\d\\d)',name): \n",
    "#         # Extract the position of beginning of pattern \n",
    "#         pos = re.search('(\\d\\d\\d)',name).start() \n",
    "#         # return the cleaned name \n",
    "#         return name[:pos]\n",
    "\n",
    "    if re.search('^(\\d\\d)',name): \n",
    "        # Extract the position of beginning of pattern \n",
    "        pos = re.search('^(\\d\\d)',name).start() \n",
    "        # return the cleaned name \n",
    "        return name[:pos]\n",
    "    if re.search('bsi[i]*[v]*',name): \n",
    "        # Extract the position of beginning of pattern \n",
    "        pos = re.search('bsi[i]*[v]*',name).start() \n",
    "        # return the cleaned name \n",
    "        return name[:pos]\n",
    "    if re.search('bs [iv]',name): \n",
    "        # Extract the position of beginning of pattern \n",
    "        pos = re.search('bs [iv]*',name).start() \n",
    "        # return the cleaned name \n",
    "        return name[:pos]\n",
    "    else: \n",
    "        # if clean up needed return the same name \n",
    "        return name \n"
   ]
  },
  {
   "cell_type": "code",
   "execution_count": 5,
   "metadata": {},
   "outputs": [],
   "source": [
    "#Making all lowercase and removing unnecesary chars from our train data\n",
    "\n",
    "df_new['Name']=df_new['Name'].apply(lambda x:x.lower())\n",
    "df_new['Name']=df_new['Name'].apply(lambda x:''.join(x.lower() for x in x.split(\"new\")))\n",
    "df_new['Name']=df_new['Name'].apply(lambda x:''.join(x.lower() for x in x.split(\"petrol\")))\n",
    "df_new['Name']=df_new['Name'].apply(lambda x:''.join(x.lower() for x in x.split(\"diesel\")))\n",
    "df_new['Name']=df_new['Name'].apply(lambda x:''.join(x.lower() for x in x.split(\"cng\")))\n",
    "df_new['Name']=df_new['Name'].apply(lambda x:' '.join(x.lower() for x in x.split(\"-\")))\n",
    "df_new['Name']=df_new['Name'].apply(lambda x:' '.join(x.lower() for x in x.split(\"-\")))\n",
    "df_new['Name']=df_new['Name'].apply(lambda x:' '.join(x.lower() for x in x.split()))\n",
    "\n",
    "#Spliting in Brand,Model and Variant\n",
    "df_new['Brand']=df_new['Name'].apply(lambda x:' '.join(x.split()[:1]))\n",
    "df_new['Model']=df_new['Name'].apply(lambda x:' '.join(x.split()[1:2]))\n",
    "df_new['Variant']=df_new['Name'].apply(lambda x:' '.join(x.split()[2:]))\n",
    "\n",
    "#Making all lowercase and removing unneceesary chars from Model and Variant columns\n",
    "df_new['Model']=df_new['Model'].apply(lambda x:' '.join(x.lower() for x in x.split(\"-\")))\n",
    "df_new['Variant']=df_new['Variant'].apply(lambda x:' '.join(x.lower() for x in x.split(\"-\")))\n",
    "\n",
    "df_new['Model']=df_new['Model'].apply(lambda x:' '.join(x.lower() for x in x.split(\"_\")))\n",
    "df_new['Variant']=df_new['Variant'].apply(lambda x:' '.join(x.lower() for x in x.split(\"_\")))"
   ]
  },
  {
   "cell_type": "code",
   "execution_count": 36,
   "metadata": {},
   "outputs": [],
   "source": [
    "#Importing Scrapped data from Cardekho\n",
    "df_cardekho=pd.read_excel('cars_scrapped_data_combined.xlsx')"
   ]
  },
  {
   "cell_type": "code",
   "execution_count": 37,
   "metadata": {},
   "outputs": [],
   "source": [
    "#Making all lowercase and removing unnecesary chars from our train data\n",
    "\n",
    "df_cardekho['Name']=df_cardekho['Name'].apply(lambda x:x.lower())\n",
    "df_cardekho['Name']=df_cardekho['Name'].apply(lambda x:''.join(x.lower() for x in x.split(\"new\")))\n",
    "df_cardekho['Name']=df_cardekho['Name'].apply(lambda x:''.join(x.lower() for x in x.split(\"petrol\")))\n",
    "df_cardekho['Name']=df_cardekho['Name'].apply(lambda x:''.join(x.lower() for x in x.split(\"diesel\")))\n",
    "df_cardekho['Name']=df_cardekho['Name'].apply(lambda x:''.join(x.lower() for x in x.split(\"cng\")))\n",
    "df_cardekho['Name']=df_cardekho['Name'].apply(lambda x:' '.join(x.lower() for x in x.split(\"-\")))\n",
    "df_cardekho['Name']=df_cardekho['Name'].apply(lambda x:' '.join(x.lower() for x in x.split(\"-\")))\n",
    "df_cardekho['Name']=df_cardekho['Name'].apply(lambda x:' '.join(x.lower() for x in x.split()))\n",
    "\n",
    "#Spliting in Brand,Model and Variant\n",
    "df_cardekho['Brand']=df_cardekho['Name'].apply(lambda x:' '.join(x.split()[:1]))\n",
    "df_cardekho['Model']=df_cardekho['Name'].apply(lambda x:' '.join(x.split()[1:2]))\n",
    "df_cardekho['Variant']=df_cardekho['Name'].apply(lambda x:' '.join(x.split()[2:]))\n",
    "\n",
    "#Making all lowercase and removing unneceesary chars from Model and Variant columns\n",
    "df_cardekho['Model']=df_cardekho['Model'].apply(lambda x:' '.join(x.lower() for x in x.split(\"-\")))\n",
    "df_cardekho['Variant']=df_cardekho['Variant'].apply(lambda x:' '.join(x.lower() for x in x.split(\"-\")))\n",
    "\n",
    "df_cardekho['Model']=df_cardekho['Model'].apply(lambda x:' '.join(x.lower() for x in x.split(\"_\")))\n",
    "df_cardekho['Variant']=df_cardekho['Variant'].apply(lambda x:' '.join(x.lower() for x in x.split(\"_\")))\n"
   ]
  },
  {
   "cell_type": "code",
   "execution_count": 38,
   "metadata": {},
   "outputs": [],
   "source": [
    "df_cardekho_new=df_cardekho.copy()"
   ]
  },
  {
   "cell_type": "code",
   "execution_count": 39,
   "metadata": {},
   "outputs": [],
   "source": [
    "#Making all lowercase and removing unnecesary chars from CardekhoData\n",
    "\n",
    "df_cardekho_new['Brand']=df_cardekho_new['Brand'].apply(lambda x:x.lower())\n",
    "df_cardekho_new['Model']=df_cardekho_new['Model'].apply(lambda x:str(x).lower())\n",
    "df_cardekho_new['Variant']=df_cardekho_new['Variant'].apply(lambda x:str(x).lower())\n",
    "\n",
    "df_cardekho_new['Brand']=df_cardekho_new['Brand'].apply(lambda x:' '.join(x.lower() for x in x.split(\"new\")))\n",
    "df_cardekho_new['Model']=df_cardekho_new['Model'].apply(lambda x:' '.join(x.lower() for x in x.split(\"new\")))\n",
    "df_cardekho_new['Variant']=df_cardekho_new['Variant'].apply(lambda x:' '.join(x.lower() for x in x.split(\"new\")))\n",
    "\n",
    "df_cardekho_new['Brand']=df_cardekho_new['Brand'].apply(lambda x:' '.join(x.lower() for x in x.split(\"-\")))\n",
    "df_cardekho_new['Model']=df_cardekho_new['Model'].apply(lambda x:' '.join(x.lower() for x in x.split(\"-\")))\n",
    "df_cardekho_new['Variant']=df_cardekho_new['Variant'].apply(lambda x:' '.join(x.lower() for x in x.split(\"-\")))\n",
    "\n",
    "df_cardekho_new['Brand']=df_cardekho_new['Brand'].apply(lambda x:' '.join(x.lower() for x in x.split(\"_\")))\n",
    "df_cardekho_new['Model']=df_cardekho_new['Model'].apply(lambda x:' '.join(x.lower() for x in x.split(\"_\")))\n",
    "df_cardekho_new['Variant']=df_cardekho_new['Variant'].apply(lambda x:' '.join(x.lower() for x in x.split(\"_\")))\n",
    "\n",
    "df_cardekho_new['Variant']=df_cardekho_new['Variant'].apply(lambda x:' '.join(x.lower() for x in x.split(\"petrol\")))\n",
    "df_cardekho_new['Variant']=df_cardekho_new['Variant'].apply(lambda x:' '.join(x.lower() for x in x.split(\"diesel\")))\n",
    "df_cardekho_new['Variant']=df_cardekho_new['Variant'].apply(lambda x:' '.join(x.lower() for x in x.split(\"cng\")))\n",
    "\n",
    "df_cardekho_new['Variant']=df_cardekho_new['Variant'].apply(lambda x:' '.join(x.lower() for x in x.split(\"\\(\\)\")))\n",
    "df_cardekho_new['Variant']=df_cardekho_new['Variant'].apply(lambda x:' '.join(x.lower() for x in x.split(\"\\\\\")))\n",
    "df_cardekho_new['Variant']=df_cardekho_new['Variant'].apply(lambda x:' '.join(x.lower() for x in x.split(\"()\")))\n",
    "df_cardekho_new['Variant']=df_cardekho_new['Variant'].apply(lambda x:' '.join(x.lower() for x in x.split(\"(\")))\n",
    "df_cardekho_new['Variant']=df_cardekho_new['Variant'].apply(lambda x:' '.join(x.lower() for x in x.split(\")\")))\n",
    "\n",
    "\n",
    "df_cardekho_new['Model'] = df_cardekho_new['Model'].apply(Clean_names)\n",
    "df_cardekho_new['Brand'] = df_cardekho_new['Brand'].apply(Clean_names)\n",
    "df_cardekho_new['Variant'] = df_cardekho_new['Variant'].apply(Clean_names)\n",
    "\n",
    "df_cardekho_new['Brand']=df_cardekho_new['Brand'].apply(lambda x:' '.join(x.lower() for x in x.split()))\n",
    "df_cardekho_new['Model']=df_cardekho_new['Model'].apply(lambda x:' '.join(x.lower() for x in x.split()))\n",
    "df_cardekho_new['Variant']=df_cardekho_new['Variant'].apply(lambda x:' '.join(x.lower() for x in x.split()))"
   ]
  },
  {
   "cell_type": "code",
   "execution_count": 40,
   "metadata": {},
   "outputs": [],
   "source": [
    "#Cleaning the Model and Variant names further from train data\n",
    "\n",
    "df_new['Model'] = df_new['Model'].apply(Clean_names)\n",
    "df_new['Variant'] = df_new['Variant'].apply(Clean_names)\n",
    "df_new['Variant']=df_new['Variant'].str.replace(r\"\\(.*\\)\",\"\")"
   ]
  },
  {
   "cell_type": "code",
   "execution_count": 12,
   "metadata": {},
   "outputs": [],
   "source": [
    "# #Cleaning the Model and Variant names in Train and cardekho if brand name is repeated in variant name\n",
    "# for i in range (0,len(df_cardekho_new)):\n",
    "#     if (df_cardekho_new.Brand[i] in df_cardekho_new.Variant[i]):\n",
    "#         df_cardekho_new['Variant']=df_cardekho_new['Variant'].apply(lambda x:' '.join(x.lower() for x in x.split(df_cardekho_new.Brand[i])))\n",
    "\n",
    "# for i in range (0,len(df_new)):\n",
    "#     if (df_new.Brand[i] in df_new.Variant[i]):\n",
    "#         df_new['Variant']=df_new['Variant'].apply(lambda x:' '.join(x.lower() for x in x.split(df_new.Brand[i])))"
   ]
  },
  {
   "cell_type": "code",
   "execution_count": 13,
   "metadata": {},
   "outputs": [
    {
     "data": {
      "text/html": [
       "<div>\n",
       "<style scoped>\n",
       "    .dataframe tbody tr th:only-of-type {\n",
       "        vertical-align: middle;\n",
       "    }\n",
       "\n",
       "    .dataframe tbody tr th {\n",
       "        vertical-align: top;\n",
       "    }\n",
       "\n",
       "    .dataframe thead th {\n",
       "        text-align: right;\n",
       "    }\n",
       "</style>\n",
       "<table border=\"1\" class=\"dataframe\">\n",
       "  <thead>\n",
       "    <tr style=\"text-align: right;\">\n",
       "      <th></th>\n",
       "      <th>Name</th>\n",
       "      <th>Price</th>\n",
       "      <th>Brand</th>\n",
       "      <th>Model</th>\n",
       "      <th>Variant</th>\n",
       "    </tr>\n",
       "    <tr>\n",
       "      <th>No</th>\n",
       "      <th></th>\n",
       "      <th></th>\n",
       "      <th></th>\n",
       "      <th></th>\n",
       "      <th></th>\n",
       "    </tr>\n",
       "  </thead>\n",
       "  <tbody>\n",
       "    <tr>\n",
       "      <th>0</th>\n",
       "      <td>aston martin db9 6 l v12</td>\n",
       "      <td>1.9 Cr</td>\n",
       "      <td>aston</td>\n",
       "      <td>martin</td>\n",
       "      <td>db9 6 l v12</td>\n",
       "    </tr>\n",
       "    <tr>\n",
       "      <th>1</th>\n",
       "      <td>aston martin db9 v12 volante</td>\n",
       "      <td>1.9 Cr</td>\n",
       "      <td>aston</td>\n",
       "      <td>martin</td>\n",
       "      <td>db9 v12 volante</td>\n",
       "    </tr>\n",
       "    <tr>\n",
       "      <th>2</th>\n",
       "      <td>aston martin dbs 6 l v12</td>\n",
       "      <td>1.3 Cr</td>\n",
       "      <td>aston</td>\n",
       "      <td>martin</td>\n",
       "      <td>dbs 6 l v12</td>\n",
       "    </tr>\n",
       "    <tr>\n",
       "      <th>3</th>\n",
       "      <td>aston martin dbs superleggera volante</td>\n",
       "      <td>5.0 Cr</td>\n",
       "      <td>aston</td>\n",
       "      <td>martin</td>\n",
       "      <td>dbs superleggera volante</td>\n",
       "    </tr>\n",
       "    <tr>\n",
       "      <th>4</th>\n",
       "      <td>aston martin one 77 v12</td>\n",
       "      <td>20.0 Cr</td>\n",
       "      <td>aston</td>\n",
       "      <td>martin</td>\n",
       "      <td>one 77 v12</td>\n",
       "    </tr>\n",
       "  </tbody>\n",
       "</table>\n",
       "</div>"
      ],
      "text/plain": [
       "                                     Name    Price  Brand   Model  \\\n",
       "No                                                                  \n",
       "0                aston martin db9 6 l v12   1.9 Cr  aston  martin   \n",
       "1            aston martin db9 v12 volante   1.9 Cr  aston  martin   \n",
       "2                aston martin dbs 6 l v12   1.3 Cr  aston  martin   \n",
       "3   aston martin dbs superleggera volante   5.0 Cr  aston  martin   \n",
       "4                 aston martin one 77 v12  20.0 Cr  aston  martin   \n",
       "\n",
       "                     Variant  \n",
       "No                            \n",
       "0                db9 6 l v12  \n",
       "1            db9 v12 volante  \n",
       "2                dbs 6 l v12  \n",
       "3   dbs superleggera volante  \n",
       "4                 one 77 v12  "
      ]
     },
     "execution_count": 13,
     "metadata": {},
     "output_type": "execute_result"
    }
   ],
   "source": [
    "df_cardekho_new.head()"
   ]
  },
  {
   "cell_type": "code",
   "execution_count": 41,
   "metadata": {},
   "outputs": [],
   "source": [
    "#Adding Column New Price in train data and dropping old column of the same\n",
    "\n",
    "df_new2=df_new.copy()\n"
   ]
  },
  {
   "cell_type": "code",
   "execution_count": 42,
   "metadata": {},
   "outputs": [],
   "source": [
    "df_cardekho_new.to_csv(\"cars_scrapped_data_cleaned.csv\")"
   ]
  },
  {
   "cell_type": "code",
   "execution_count": 43,
   "metadata": {},
   "outputs": [],
   "source": [
    "df_cardekho_new=pd.read_csv('cars_scrapped_data_cleaned.csv')"
   ]
  },
  {
   "cell_type": "code",
   "execution_count": 39,
   "metadata": {},
   "outputs": [],
   "source": [
    "# df_cardekho_new.drop_duplicates('Name',inplace=True)"
   ]
  },
  {
   "cell_type": "code",
   "execution_count": 42,
   "metadata": {},
   "outputs": [],
   "source": [
    "# df_cardekho_new.Name.value_counts()"
   ]
  },
  {
   "cell_type": "code",
   "execution_count": null,
   "metadata": {},
   "outputs": [],
   "source": []
  },
  {
   "cell_type": "code",
   "execution_count": 44,
   "metadata": {},
   "outputs": [
    {
     "data": {
      "text/html": [
       "<div>\n",
       "<style scoped>\n",
       "    .dataframe tbody tr th:only-of-type {\n",
       "        vertical-align: middle;\n",
       "    }\n",
       "\n",
       "    .dataframe tbody tr th {\n",
       "        vertical-align: top;\n",
       "    }\n",
       "\n",
       "    .dataframe thead th {\n",
       "        text-align: right;\n",
       "    }\n",
       "</style>\n",
       "<table border=\"1\" class=\"dataframe\">\n",
       "  <thead>\n",
       "    <tr style=\"text-align: right;\">\n",
       "      <th></th>\n",
       "      <th>Unnamed: 0</th>\n",
       "      <th>Name</th>\n",
       "      <th>Price</th>\n",
       "      <th>Brand</th>\n",
       "      <th>Model</th>\n",
       "      <th>Variant</th>\n",
       "    </tr>\n",
       "  </thead>\n",
       "  <tbody>\n",
       "    <tr>\n",
       "      <th>0</th>\n",
       "      <td>0</td>\n",
       "      <td>aston martin db9 6 l v12</td>\n",
       "      <td>1.9 Cr</td>\n",
       "      <td>aston</td>\n",
       "      <td>martin</td>\n",
       "      <td>db9 6 l v12</td>\n",
       "    </tr>\n",
       "    <tr>\n",
       "      <th>1</th>\n",
       "      <td>1</td>\n",
       "      <td>aston martin db9 v12 volante</td>\n",
       "      <td>1.9 Cr</td>\n",
       "      <td>aston</td>\n",
       "      <td>martin</td>\n",
       "      <td>db9 v12 volante</td>\n",
       "    </tr>\n",
       "    <tr>\n",
       "      <th>2</th>\n",
       "      <td>2</td>\n",
       "      <td>aston martin dbs 6 l v12</td>\n",
       "      <td>1.3 Cr</td>\n",
       "      <td>aston</td>\n",
       "      <td>martin</td>\n",
       "      <td>dbs 6 l v12</td>\n",
       "    </tr>\n",
       "    <tr>\n",
       "      <th>3</th>\n",
       "      <td>3</td>\n",
       "      <td>aston martin dbs superleggera volante</td>\n",
       "      <td>5.0 Cr</td>\n",
       "      <td>aston</td>\n",
       "      <td>martin</td>\n",
       "      <td>dbs superleggera volante</td>\n",
       "    </tr>\n",
       "    <tr>\n",
       "      <th>4</th>\n",
       "      <td>4</td>\n",
       "      <td>aston martin one 77 v12</td>\n",
       "      <td>20.0 Cr</td>\n",
       "      <td>aston</td>\n",
       "      <td>martin</td>\n",
       "      <td>one 77 v12</td>\n",
       "    </tr>\n",
       "  </tbody>\n",
       "</table>\n",
       "</div>"
      ],
      "text/plain": [
       "   Unnamed: 0                                   Name    Price  Brand   Model  \\\n",
       "0           0               aston martin db9 6 l v12   1.9 Cr  aston  martin   \n",
       "1           1           aston martin db9 v12 volante   1.9 Cr  aston  martin   \n",
       "2           2               aston martin dbs 6 l v12   1.3 Cr  aston  martin   \n",
       "3           3  aston martin dbs superleggera volante   5.0 Cr  aston  martin   \n",
       "4           4                aston martin one 77 v12  20.0 Cr  aston  martin   \n",
       "\n",
       "                    Variant  \n",
       "0               db9 6 l v12  \n",
       "1           db9 v12 volante  \n",
       "2               dbs 6 l v12  \n",
       "3  dbs superleggera volante  \n",
       "4                one 77 v12  "
      ]
     },
     "execution_count": 44,
     "metadata": {},
     "output_type": "execute_result"
    }
   ],
   "source": [
    "df_cardekho_new.head()"
   ]
  },
  {
   "cell_type": "code",
   "execution_count": 45,
   "metadata": {},
   "outputs": [
    {
     "data": {
      "text/html": [
       "<div>\n",
       "<style scoped>\n",
       "    .dataframe tbody tr th:only-of-type {\n",
       "        vertical-align: middle;\n",
       "    }\n",
       "\n",
       "    .dataframe tbody tr th {\n",
       "        vertical-align: top;\n",
       "    }\n",
       "\n",
       "    .dataframe thead th {\n",
       "        text-align: right;\n",
       "    }\n",
       "</style>\n",
       "<table border=\"1\" class=\"dataframe\">\n",
       "  <thead>\n",
       "    <tr style=\"text-align: right;\">\n",
       "      <th></th>\n",
       "      <th>Name</th>\n",
       "      <th>Location</th>\n",
       "      <th>Year</th>\n",
       "      <th>Kilometers_Driven</th>\n",
       "      <th>Fuel_Type</th>\n",
       "      <th>Transmission</th>\n",
       "      <th>Owner_Type</th>\n",
       "      <th>Mileage</th>\n",
       "      <th>Engine</th>\n",
       "      <th>Power</th>\n",
       "      <th>Seats</th>\n",
       "      <th>New_Price</th>\n",
       "      <th>Price</th>\n",
       "      <th>Brand</th>\n",
       "      <th>Model</th>\n",
       "      <th>Variant</th>\n",
       "    </tr>\n",
       "  </thead>\n",
       "  <tbody>\n",
       "    <tr>\n",
       "      <th>0</th>\n",
       "      <td>maruti wagon r lxi</td>\n",
       "      <td>Mumbai</td>\n",
       "      <td>2010</td>\n",
       "      <td>72000</td>\n",
       "      <td>CNG</td>\n",
       "      <td>Manual</td>\n",
       "      <td>First</td>\n",
       "      <td>26.6 km/kg</td>\n",
       "      <td>998 CC</td>\n",
       "      <td>58.16 bhp</td>\n",
       "      <td>5.0</td>\n",
       "      <td>NaN</td>\n",
       "      <td>1.75</td>\n",
       "      <td>maruti</td>\n",
       "      <td>wagon</td>\n",
       "      <td>r lxi</td>\n",
       "    </tr>\n",
       "    <tr>\n",
       "      <th>1</th>\n",
       "      <td>hyundai creta 1.6 crdi sx option</td>\n",
       "      <td>Pune</td>\n",
       "      <td>2015</td>\n",
       "      <td>41000</td>\n",
       "      <td>Diesel</td>\n",
       "      <td>Manual</td>\n",
       "      <td>First</td>\n",
       "      <td>19.67 kmpl</td>\n",
       "      <td>1582 CC</td>\n",
       "      <td>126.2 bhp</td>\n",
       "      <td>5.0</td>\n",
       "      <td>NaN</td>\n",
       "      <td>12.50</td>\n",
       "      <td>hyundai</td>\n",
       "      <td>creta</td>\n",
       "      <td>1.6 crdi sx option</td>\n",
       "    </tr>\n",
       "    <tr>\n",
       "      <th>2</th>\n",
       "      <td>honda jazz v</td>\n",
       "      <td>Chennai</td>\n",
       "      <td>2011</td>\n",
       "      <td>46000</td>\n",
       "      <td>Petrol</td>\n",
       "      <td>Manual</td>\n",
       "      <td>First</td>\n",
       "      <td>18.2 kmpl</td>\n",
       "      <td>1199 CC</td>\n",
       "      <td>88.7 bhp</td>\n",
       "      <td>5.0</td>\n",
       "      <td>8.61 Lakh</td>\n",
       "      <td>4.50</td>\n",
       "      <td>honda</td>\n",
       "      <td>jazz</td>\n",
       "      <td>v</td>\n",
       "    </tr>\n",
       "    <tr>\n",
       "      <th>3</th>\n",
       "      <td>maruti ertiga vdi</td>\n",
       "      <td>Chennai</td>\n",
       "      <td>2012</td>\n",
       "      <td>87000</td>\n",
       "      <td>Diesel</td>\n",
       "      <td>Manual</td>\n",
       "      <td>First</td>\n",
       "      <td>20.77 kmpl</td>\n",
       "      <td>1248 CC</td>\n",
       "      <td>88.76 bhp</td>\n",
       "      <td>7.0</td>\n",
       "      <td>NaN</td>\n",
       "      <td>6.00</td>\n",
       "      <td>maruti</td>\n",
       "      <td>ertiga</td>\n",
       "      <td>vdi</td>\n",
       "    </tr>\n",
       "    <tr>\n",
       "      <th>4</th>\n",
       "      <td>audi a4 2.0 tdi multitronic</td>\n",
       "      <td>Coimbatore</td>\n",
       "      <td>2013</td>\n",
       "      <td>40670</td>\n",
       "      <td>Diesel</td>\n",
       "      <td>Automatic</td>\n",
       "      <td>Second</td>\n",
       "      <td>15.2 kmpl</td>\n",
       "      <td>1968 CC</td>\n",
       "      <td>140.8 bhp</td>\n",
       "      <td>5.0</td>\n",
       "      <td>NaN</td>\n",
       "      <td>17.74</td>\n",
       "      <td>audi</td>\n",
       "      <td>a4</td>\n",
       "      <td>2.0 tdi multitronic</td>\n",
       "    </tr>\n",
       "  </tbody>\n",
       "</table>\n",
       "</div>"
      ],
      "text/plain": [
       "                               Name    Location  Year  Kilometers_Driven  \\\n",
       "0                maruti wagon r lxi      Mumbai  2010              72000   \n",
       "1  hyundai creta 1.6 crdi sx option        Pune  2015              41000   \n",
       "2                      honda jazz v     Chennai  2011              46000   \n",
       "3                 maruti ertiga vdi     Chennai  2012              87000   \n",
       "4       audi a4 2.0 tdi multitronic  Coimbatore  2013              40670   \n",
       "\n",
       "  Fuel_Type Transmission Owner_Type     Mileage   Engine      Power  Seats  \\\n",
       "0       CNG       Manual      First  26.6 km/kg   998 CC  58.16 bhp    5.0   \n",
       "1    Diesel       Manual      First  19.67 kmpl  1582 CC  126.2 bhp    5.0   \n",
       "2    Petrol       Manual      First   18.2 kmpl  1199 CC   88.7 bhp    5.0   \n",
       "3    Diesel       Manual      First  20.77 kmpl  1248 CC  88.76 bhp    7.0   \n",
       "4    Diesel    Automatic     Second   15.2 kmpl  1968 CC  140.8 bhp    5.0   \n",
       "\n",
       "   New_Price  Price    Brand   Model              Variant  \n",
       "0        NaN   1.75   maruti   wagon                r lxi  \n",
       "1        NaN  12.50  hyundai   creta   1.6 crdi sx option  \n",
       "2  8.61 Lakh   4.50    honda    jazz                    v  \n",
       "3        NaN   6.00   maruti  ertiga                  vdi  \n",
       "4        NaN  17.74     audi      a4  2.0 tdi multitronic  "
      ]
     },
     "execution_count": 45,
     "metadata": {},
     "output_type": "execute_result"
    }
   ],
   "source": [
    "df_new2.head()"
   ]
  },
  {
   "cell_type": "code",
   "execution_count": 46,
   "metadata": {},
   "outputs": [
    {
     "data": {
      "text/plain": [
       "Name                    0\n",
       "Location                0\n",
       "Year                    0\n",
       "Kilometers_Driven       0\n",
       "Fuel_Type               0\n",
       "Transmission            0\n",
       "Owner_Type              0\n",
       "Mileage                 2\n",
       "Engine                 36\n",
       "Power                  36\n",
       "Seats                  42\n",
       "New_Price            5195\n",
       "Price                   0\n",
       "Brand                   0\n",
       "Model                   0\n",
       "Variant                 0\n",
       "dtype: int64"
      ]
     },
     "execution_count": 46,
     "metadata": {},
     "output_type": "execute_result"
    }
   ],
   "source": [
    "#Checking Null Values\n",
    "df_new2.isnull().sum()"
   ]
  },
  {
   "cell_type": "code",
   "execution_count": null,
   "metadata": {},
   "outputs": [],
   "source": []
  },
  {
   "cell_type": "code",
   "execution_count": 50,
   "metadata": {},
   "outputs": [
    {
     "name": "stdout",
     "output_type": "stream",
     "text": [
      "no\n"
     ]
    }
   ],
   "source": [
    "if (df_new2.Variant[0] in df_cardekho_new.loc[0,\"Variant\"]):\n",
    "    print('yes')\n",
    "else:\n",
    "    print('no')"
   ]
  },
  {
   "cell_type": "code",
   "execution_count": 54,
   "metadata": {},
   "outputs": [
    {
     "name": "stdout",
     "output_type": "stream",
     "text": [
      "Time taken is 300.052476644516 s\n",
      "1795\n"
     ]
    }
   ],
   "source": [
    "'''Fetching Price from Cardekho data and appending in train data if Brand,Model and Variant matches exactly'''\n",
    "\n",
    "count=0\n",
    "start = time.time()\n",
    "for i in range (0,len(df_new2)):\n",
    "    if (str(df_new2.loc[i,\"New_Price\"])==\"nan\"):\n",
    "        loop2=0\n",
    "        var=df_new2.Variant[i]\n",
    "        var1=var[:15]\n",
    "\n",
    "        for j in range(0,len(df_cardekho_new)):\n",
    "            if((df_new2.loc[i,\"Brand\"]==df_cardekho_new.loc[j,\"Brand\"]) and (df_new2.loc[i,\"Model\"]==df_cardekho_new.loc[j,\"Model\"])):\n",
    "                if (var in str(df_cardekho_new.loc[j,\"Variant\"])):\n",
    "                    df_new2.loc[i,\"New_Price\"]=df_cardekho_new.loc[j,\"Price\"]\n",
    "                    count+=1\n",
    "                    loop2=1\n",
    "                    break\n",
    "        if (loop2==0):\n",
    "            for j in range(0,len(df_cardekho_new)):\n",
    "                if((df_new2.loc[i,\"Brand\"]==df_cardekho_new.loc[j,\"Brand\"]) and (df_new2.loc[i,\"Model\"]==df_cardekho_new.loc[j,\"Model\"])):\n",
    "                    if (var1 in str(df_cardekho_new.loc[j,\"Variant\"])):\n",
    "                        df_new2.loc[i,\"New_Price\"]=df_cardekho_new.loc[j,\"Price\"]\n",
    "                        count+=1\n",
    "                        loop2=1\n",
    "                        break\n",
    "\n",
    "\n",
    "stop=time.time()\n",
    "print(\"Time taken is \"+ str(stop-start) + \" s\")\n",
    "print(count)"
   ]
  },
  {
   "cell_type": "code",
   "execution_count": 55,
   "metadata": {},
   "outputs": [
    {
     "data": {
      "text/plain": [
       "Name                    0\n",
       "Location                0\n",
       "Year                    0\n",
       "Kilometers_Driven       0\n",
       "Fuel_Type               0\n",
       "Transmission            0\n",
       "Owner_Type              0\n",
       "Mileage                 2\n",
       "Engine                 36\n",
       "Power                  36\n",
       "Seats                  42\n",
       "New_Price            3381\n",
       "Price                   0\n",
       "Brand                   0\n",
       "Model                   0\n",
       "Variant                 0\n",
       "dtype: int64"
      ]
     },
     "execution_count": 55,
     "metadata": {},
     "output_type": "execute_result"
    }
   ],
   "source": [
    "#Checking Null Values\n",
    "df_new2.isnull().sum()"
   ]
  },
  {
   "cell_type": "code",
   "execution_count": 56,
   "metadata": {},
   "outputs": [],
   "source": [
    "df_new2.to_excel(\"train_data_cleaned.xlsx\")"
   ]
  },
  {
   "cell_type": "code",
   "execution_count": 64,
   "metadata": {},
   "outputs": [],
   "source": [
    "df_new2=pd.read_excel('train_data_cleaned.xlsx')"
   ]
  },
  {
   "cell_type": "code",
   "execution_count": 66,
   "metadata": {},
   "outputs": [
    {
     "name": "stdout",
     "output_type": "stream",
     "text": [
      "Time taken is 135.3257577419281 s\n",
      "1473\n"
     ]
    }
   ],
   "source": [
    "'''Fetching Price from Cardekho data and appending in train data if Brand,Model matches exactly and\n",
    "Variant matches atleast 7 letters '''\n",
    "\n",
    "count=0\n",
    "start = time.time()\n",
    "for i in range (0,len(df_new2)):\n",
    "    if (str(df_new2.loc[i,\"New_Price\"])==\"nan\"):\n",
    "        loop2=0\n",
    "        var=str(df_new2.Variant[i])\n",
    "        var1=var[:7]\n",
    "#         var2=var[:5]\n",
    "\n",
    "        for j in range(0,len(df_cardekho_new)):\n",
    "            if([(df_new2.loc[i,\"Brand\"]==df_cardekho_new.loc[j,\"Brand\"]) and (df_new2.loc[i,\"Model\"]==df_cardekho_new.loc[j,\"Model\"])]):\n",
    "                if (var1 in str(df_cardekho_new.loc[j,\"Variant\"])):\n",
    "                    df_new2.loc[i,\"New_Price\"]=df_cardekho_new.loc[j,\"Price\"]\n",
    "                    count+=1\n",
    "                    loop2=1\n",
    "                    break\n",
    "\n",
    "\n",
    "#Fetching Price from Cardekho data and appending in train data if Brand matches exactly, Model with atleast 4 letters\n",
    "#Variant matches atleast 5 letters in variant column or brand column\n",
    "\n",
    "#         if (loop2==0):\n",
    "#             for j in range(0,len(df_cardekho_new)):      \n",
    "#                 #if([(df_new2.loc[i,\"Brand\"]==df_cardekho_new.loc[j,\"Brand\"])]):\n",
    "#                 if([(df_new2.loc[i,\"Brand\"]==df_cardekho_new.loc[j,\"Brand\"]) and (df_new2.loc[i,\"Model\"]==df_cardekho_new.loc[j,\"Model\"])]):\n",
    "#                     #if (df_new2.loc[i,\"Model\"][:4] in df_cardekho_new.loc[j,\"Brand\"]):\n",
    "#                     if ([(var2 in str(df_cardekho_new.loc[j,\"Variant\"])) or (var2 in str(df_cardekho_new.loc[j,\"Model\"]))]):\n",
    "#                         df_new2.loc[i,\"New_Price\"]=df_cardekho_new.loc[j,\"Price\"]\n",
    "#                         count+=1\n",
    "#                         break\n",
    "stop=time.time()\n",
    "print(\"Time taken is \"+ str(stop-start) + \" s\")\n",
    "print(count)"
   ]
  },
  {
   "cell_type": "code",
   "execution_count": 67,
   "metadata": {},
   "outputs": [],
   "source": [
    "#df_new3=df_new2.copy()\n",
    "df_new2.to_excel(\"train_data_cleaned2.xlsx\")"
   ]
  },
  {
   "cell_type": "code",
   "execution_count": 70,
   "metadata": {},
   "outputs": [
    {
     "data": {
      "text/plain": [
       "Unnamed: 0              0\n",
       "Name                    0\n",
       "Location                0\n",
       "Year                    0\n",
       "Kilometers_Driven       0\n",
       "Fuel_Type               0\n",
       "Transmission            0\n",
       "Owner_Type              0\n",
       "Mileage                 2\n",
       "Engine                 36\n",
       "Power                  36\n",
       "Seats                  42\n",
       "New_Price            1803\n",
       "Price                   0\n",
       "Brand                   0\n",
       "Model                  13\n",
       "Variant               408\n",
       "dtype: int64"
      ]
     },
     "execution_count": 70,
     "metadata": {},
     "output_type": "execute_result"
    }
   ],
   "source": [
    "#Checking Null Values\n",
    "df_new2.isnull().sum()"
   ]
  },
  {
   "cell_type": "code",
   "execution_count": 71,
   "metadata": {},
   "outputs": [],
   "source": [
    "df_new3=df_new2.copy()"
   ]
  },
  {
   "cell_type": "code",
   "execution_count": 72,
   "metadata": {},
   "outputs": [
    {
     "name": "stdout",
     "output_type": "stream",
     "text": [
      "Time taken is 68.53502535820007 s\n",
      "2\n"
     ]
    }
   ],
   "source": [
    "'''Fetching Price from Cardekho data and appending in train data if Brand matches exactly, Model or Variant with\n",
    "atleast 4 letters'''\n",
    "\n",
    "count=0\n",
    "start=time.time()\n",
    "\n",
    "for i in range (0,len(df_new)):\n",
    "    loop2=0\n",
    "    if (str(df_new3.loc[i,\"New_Price\"])==\"nan\"):\n",
    "        var1=str(df_new3.loc[i,\"Variant\"])\n",
    "        var1=var1[-5:]\n",
    "        for j in range(0,len(df_cardekho_new)):      \n",
    "            if((df_new3.loc[i,\"Brand\"]==df_cardekho_new.loc[j,\"Brand\"]) and (df_new3.loc[i,\"Variant\"][:4] in df_cardekho_new.loc[j,\"Model\"])):\n",
    "                if (var1 in df_cardekho_new.loc[j,\"Variant\"]):\n",
    "                    df_new3.loc[i,\"New_Price\"]=df_cardekho_new.loc[j,\"Price\"]\n",
    "                    count+=1\n",
    "                    loop2=1\n",
    "                    break\n",
    "#         if(loop2==0):\n",
    "#             var1=str(df_new3.loc[i,\"Variant\"])\n",
    "#             var1=var1[:6]\n",
    "#             for j in range(0,len(df_cardekho_new)):      \n",
    "#                 if([(df_new3.loc[i,\"Brand\"]==df_cardekho_new.loc[j,\"Brand\"]) and (df_new3.loc[i,\"Model\"][:4]==df_cardekho_new.loc[j,\"Model\"][:4])]):\n",
    "#                     if var1 in df_cardekho_new.loc[j,\"Variant\"]:\n",
    "#                         df_new3.loc[i,\"New_Price\"]=df_cardekho_new.loc[j,\"Price\"]\n",
    "#                         count+=1\n",
    "#                         break\n",
    "stop=time.time()\n",
    "print(\"Time taken is \"+ str(stop-start)+\" s\")\n",
    "print(count)"
   ]
  },
  {
   "cell_type": "code",
   "execution_count": 69,
   "metadata": {},
   "outputs": [
    {
     "name": "stdout",
     "output_type": "stream",
     "text": [
      "0\n"
     ]
    }
   ],
   "source": [
    "print(df_new3.New_Price.isnull().sum())\n",
    "df_new3.to_excel(\"train_data_cleaned3.xlsx\")"
   ]
  },
  {
   "cell_type": "code",
   "execution_count": 92,
   "metadata": {},
   "outputs": [],
   "source": [
    "df_new4=df_new3.copy()\n",
    "df_new4.columns = df_new4.columns.str.strip()"
   ]
  },
  {
   "cell_type": "code",
   "execution_count": 93,
   "metadata": {},
   "outputs": [
    {
     "name": "stdout",
     "output_type": "stream",
     "text": [
      "Time taken is 143.27582573890686 s\n",
      "203\n"
     ]
    }
   ],
   "source": [
    "'''Fetching Price from Cardekho data and appending in train data if Brand matches exactly, Model with\n",
    "atleast 4 letters and or Variant with different conditions'''\n",
    "\n",
    "count=0\n",
    "start=time.time()\n",
    "\n",
    "for i in range (0,len(df_new)):\n",
    "    loop2=0\n",
    "    if (str(df_new4.loc[i,\"New_Price\"])==\"nan\"):\n",
    "        for j in range(0,len(df_cardekho_new)):      \n",
    "            if([(df_new4.loc[i,\"Brand\"]==df_cardekho_new.loc[j,\"Brand\"]) and (df_new4.loc[i,\"Model\"][:5]==df_cardekho_new.loc[j,\"Model\"][:5])]):\n",
    "                if (df_new4.loc[i,\"Variant\"][-4:]==df_cardekho_new.loc[j,\"Variant\"][:4]):\n",
    "                    df_new4.loc[i,\"New_Price\"]=df_cardekho_new.loc[j,\"Price\"]\n",
    "                    count+=1\n",
    "                    loop2=1\n",
    "                    break\n",
    "            if(loop2==0):\n",
    "                if([(df_new4.loc[i,\"Brand\"]==df_cardekho_new.loc[j,\"Brand\"]) and (df_new4.loc[i,\"Model\"][:5]==df_cardekho_new.loc[j,\"Model\"][:5])]):\n",
    "                    if ((df_new4.loc[i,\"Variant\"][-3:]==df_cardekho_new.loc[j,\"Variant\"][-3:]) and (df_new4.loc[i,\"Variant\"][4:] in df_cardekho_new.loc[j,\"Model\"])):\n",
    "                        df_new4.loc[i,\"New_Price\"]=df_cardekho_new.loc[j,\"Price\"]\n",
    "                        count+=1\n",
    "                        loop2=1\n",
    "                        break\n",
    "\n",
    "\n",
    "stop=time.time()\n",
    "print(\"Time taken is \"+ str(stop-start)+\" s\")\n",
    "print(count)"
   ]
  },
  {
   "cell_type": "code",
   "execution_count": 95,
   "metadata": {},
   "outputs": [
    {
     "name": "stdout",
     "output_type": "stream",
     "text": [
      "1010\n"
     ]
    }
   ],
   "source": [
    "print(df_new4.New_Price.isnull().sum())"
   ]
  },
  {
   "cell_type": "code",
   "execution_count": 41,
   "metadata": {},
   "outputs": [],
   "source": [
    "df_new.to_excel(\"train_data_price_scrapped2.xlsx\")"
   ]
  },
  {
   "cell_type": "code",
   "execution_count": null,
   "metadata": {},
   "outputs": [],
   "source": []
  }
 ],
 "metadata": {
  "kernelspec": {
   "display_name": "Python 3",
   "language": "python",
   "name": "python3"
  },
  "language_info": {
   "codemirror_mode": {
    "name": "ipython",
    "version": 3
   },
   "file_extension": ".py",
   "mimetype": "text/x-python",
   "name": "python",
   "nbconvert_exporter": "python",
   "pygments_lexer": "ipython3",
   "version": "3.7.3"
  }
 },
 "nbformat": 4,
 "nbformat_minor": 2
}
